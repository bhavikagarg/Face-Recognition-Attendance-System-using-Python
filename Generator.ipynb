{
 "cells": [
  {
   "cell_type": "code",
   "execution_count": 1,
   "id": "9e7adf26",
   "metadata": {},
   "outputs": [],
   "source": [
    "import cv2\n",
    "import face_recognition\n",
    "import pickle\n",
    "import os"
   ]
  },
  {
   "cell_type": "code",
   "execution_count": 2,
   "id": "d2feffba",
   "metadata": {},
   "outputs": [
    {
     "name": "stdout",
     "output_type": "stream",
     "text": [
      "Requirement already satisfied: firebase_admin in c:\\users\\bhavya\\anaconda3\\lib\\site-packages (6.5.0)\n",
      "Requirement already satisfied: cachecontrol>=0.12.6 in c:\\users\\bhavya\\anaconda3\\lib\\site-packages (from firebase_admin) (0.14.0)\n",
      "Requirement already satisfied: google-api-python-client>=1.7.8 in c:\\users\\bhavya\\anaconda3\\lib\\site-packages (from firebase_admin) (2.126.0)\n",
      "Requirement already satisfied: google-cloud-storage>=1.37.1 in c:\\users\\bhavya\\anaconda3\\lib\\site-packages (from firebase_admin) (2.16.0)\n",
      "Requirement already satisfied: pyjwt>=2.5.0 in c:\\users\\bhavya\\anaconda3\\lib\\site-packages (from pyjwt[crypto]>=2.5.0->firebase_admin) (2.8.0)\n",
      "Requirement already satisfied: google-api-core<3.0.0dev,>=1.22.1 in c:\\users\\bhavya\\anaconda3\\lib\\site-packages (from google-api-core[grpc]<3.0.0dev,>=1.22.1; platform_python_implementation != \"PyPy\"->firebase_admin) (2.18.0)\n",
      "Requirement already satisfied: google-cloud-firestore>=2.9.1 in c:\\users\\bhavya\\anaconda3\\lib\\site-packages (from firebase_admin) (2.16.0)\n",
      "Requirement already satisfied: requests>=2.16.0 in c:\\users\\bhavya\\appdata\\roaming\\python\\python311\\site-packages (from cachecontrol>=0.12.6->firebase_admin) (2.31.0)\n",
      "Requirement already satisfied: msgpack<2.0.0,>=0.5.2 in c:\\users\\bhavya\\anaconda3\\lib\\site-packages (from cachecontrol>=0.12.6->firebase_admin) (1.0.3)\n",
      "Requirement already satisfied: googleapis-common-protos<2.0.dev0,>=1.56.2 in c:\\users\\bhavya\\anaconda3\\lib\\site-packages (from google-api-core<3.0.0dev,>=1.22.1->google-api-core[grpc]<3.0.0dev,>=1.22.1; platform_python_implementation != \"PyPy\"->firebase_admin) (1.63.0)\n",
      "Requirement already satisfied: protobuf!=3.20.0,!=3.20.1,!=4.21.0,!=4.21.1,!=4.21.2,!=4.21.3,!=4.21.4,!=4.21.5,<5.0.0.dev0,>=3.19.5 in c:\\users\\bhavya\\appdata\\roaming\\python\\python311\\site-packages (from google-api-core<3.0.0dev,>=1.22.1->google-api-core[grpc]<3.0.0dev,>=1.22.1; platform_python_implementation != \"PyPy\"->firebase_admin) (4.24.3)\n",
      "Requirement already satisfied: proto-plus<2.0.0dev,>=1.22.3 in c:\\users\\bhavya\\anaconda3\\lib\\site-packages (from google-api-core<3.0.0dev,>=1.22.1->google-api-core[grpc]<3.0.0dev,>=1.22.1; platform_python_implementation != \"PyPy\"->firebase_admin) (1.23.0)\n",
      "Requirement already satisfied: google-auth<3.0.dev0,>=2.14.1 in c:\\users\\bhavya\\anaconda3\\lib\\site-packages (from google-api-core<3.0.0dev,>=1.22.1->google-api-core[grpc]<3.0.0dev,>=1.22.1; platform_python_implementation != \"PyPy\"->firebase_admin) (2.29.0)\n",
      "Requirement already satisfied: grpcio<2.0dev,>=1.33.2 in c:\\users\\bhavya\\anaconda3\\lib\\site-packages (from google-api-core[grpc]<3.0.0dev,>=1.22.1; platform_python_implementation != \"PyPy\"->firebase_admin) (1.62.2)\n",
      "Requirement already satisfied: grpcio-status<2.0.dev0,>=1.33.2 in c:\\users\\bhavya\\anaconda3\\lib\\site-packages (from google-api-core[grpc]<3.0.0dev,>=1.22.1; platform_python_implementation != \"PyPy\"->firebase_admin) (1.62.2)\n",
      "Requirement already satisfied: httplib2<1.dev0,>=0.19.0 in c:\\users\\bhavya\\anaconda3\\lib\\site-packages (from google-api-python-client>=1.7.8->firebase_admin) (0.22.0)\n",
      "Requirement already satisfied: google-auth-httplib2<1.0.0,>=0.2.0 in c:\\users\\bhavya\\anaconda3\\lib\\site-packages (from google-api-python-client>=1.7.8->firebase_admin) (0.2.0)\n",
      "Requirement already satisfied: uritemplate<5,>=3.0.1 in c:\\users\\bhavya\\anaconda3\\lib\\site-packages (from google-api-python-client>=1.7.8->firebase_admin) (4.1.1)\n",
      "Requirement already satisfied: google-cloud-core<3.0.0dev,>=1.4.1 in c:\\users\\bhavya\\anaconda3\\lib\\site-packages (from google-cloud-firestore>=2.9.1->firebase_admin) (2.4.1)\n",
      "Requirement already satisfied: google-resumable-media>=2.6.0 in c:\\users\\bhavya\\anaconda3\\lib\\site-packages (from google-cloud-storage>=1.37.1->firebase_admin) (2.7.0)\n",
      "Requirement already satisfied: google-crc32c<2.0dev,>=1.0 in c:\\users\\bhavya\\anaconda3\\lib\\site-packages (from google-cloud-storage>=1.37.1->firebase_admin) (1.5.0)\n",
      "Requirement already satisfied: cryptography>=3.4.0 in c:\\users\\bhavya\\anaconda3\\lib\\site-packages (from pyjwt[crypto]>=2.5.0->firebase_admin) (41.0.2)\n",
      "Requirement already satisfied: cffi>=1.12 in c:\\users\\bhavya\\anaconda3\\lib\\site-packages (from cryptography>=3.4.0->pyjwt[crypto]>=2.5.0->firebase_admin) (1.15.1)\n",
      "Requirement already satisfied: cachetools<6.0,>=2.0.0 in c:\\users\\bhavya\\appdata\\roaming\\python\\python311\\site-packages (from google-auth<3.0.dev0,>=2.14.1->google-api-core<3.0.0dev,>=1.22.1->google-api-core[grpc]<3.0.0dev,>=1.22.1; platform_python_implementation != \"PyPy\"->firebase_admin) (5.3.1)\n",
      "Requirement already satisfied: pyasn1-modules>=0.2.1 in c:\\users\\bhavya\\appdata\\roaming\\python\\python311\\site-packages (from google-auth<3.0.dev0,>=2.14.1->google-api-core<3.0.0dev,>=1.22.1->google-api-core[grpc]<3.0.0dev,>=1.22.1; platform_python_implementation != \"PyPy\"->firebase_admin) (0.3.0)\n",
      "Requirement already satisfied: rsa<5,>=3.1.4 in c:\\users\\bhavya\\appdata\\roaming\\python\\python311\\site-packages (from google-auth<3.0.dev0,>=2.14.1->google-api-core<3.0.0dev,>=1.22.1->google-api-core[grpc]<3.0.0dev,>=1.22.1; platform_python_implementation != \"PyPy\"->firebase_admin) (4.9)\n",
      "Requirement already satisfied: pyparsing!=3.0.0,!=3.0.1,!=3.0.2,!=3.0.3,<4,>=2.4.2 in c:\\users\\bhavya\\appdata\\roaming\\python\\python311\\site-packages (from httplib2<1.dev0,>=0.19.0->google-api-python-client>=1.7.8->firebase_admin) (3.0.9)\n",
      "Requirement already satisfied: charset-normalizer<4,>=2 in c:\\users\\bhavya\\appdata\\roaming\\python\\python311\\site-packages (from requests>=2.16.0->cachecontrol>=0.12.6->firebase_admin) (3.2.0)\n",
      "Requirement already satisfied: idna<4,>=2.5 in c:\\users\\bhavya\\appdata\\roaming\\python\\python311\\site-packages (from requests>=2.16.0->cachecontrol>=0.12.6->firebase_admin) (3.4)\n",
      "Requirement already satisfied: urllib3<3,>=1.21.1 in c:\\users\\bhavya\\appdata\\roaming\\python\\python311\\site-packages (from requests>=2.16.0->cachecontrol>=0.12.6->firebase_admin) (1.26.16)\n",
      "Requirement already satisfied: certifi>=2017.4.17 in c:\\users\\bhavya\\appdata\\roaming\\python\\python311\\site-packages (from requests>=2.16.0->cachecontrol>=0.12.6->firebase_admin) (2023.7.22)\n",
      "Requirement already satisfied: pycparser in c:\\users\\bhavya\\anaconda3\\lib\\site-packages (from cffi>=1.12->cryptography>=3.4.0->pyjwt[crypto]>=2.5.0->firebase_admin) (2.21)\n",
      "Requirement already satisfied: pyasn1<0.6.0,>=0.4.6 in c:\\users\\bhavya\\appdata\\roaming\\python\\python311\\site-packages (from pyasn1-modules>=0.2.1->google-auth<3.0.dev0,>=2.14.1->google-api-core<3.0.0dev,>=1.22.1->google-api-core[grpc]<3.0.0dev,>=1.22.1; platform_python_implementation != \"PyPy\"->firebase_admin) (0.5.0)\n",
      "Note: you may need to restart the kernel to use updated packages.\n"
     ]
    }
   ],
   "source": [
    "pip install firebase_admin"
   ]
  },
  {
   "cell_type": "code",
   "execution_count": 3,
   "id": "ce828058",
   "metadata": {},
   "outputs": [
    {
     "name": "stdout",
     "output_type": "stream",
     "text": [
      "['12131415.png', '123456.png', '7891011.png']\n",
      "Starting of encoding process....\n",
      "Encoding of images has been completed.....\n",
      "Ecoding File has been saved in your system...\n"
     ]
    }
   ],
   "source": [
    "import firebase_admin\n",
    "from firebase_admin import credentials\n",
    "from firebase_admin import db\n",
    "from firebase_admin import storage\n",
    "\n",
    "cred = credentials.Certificate(\"serviceAccountKey.json\")\n",
    "firebase_admin.initialize_app(cred,{\n",
    "    'databaseURL':\"https://face-recognitionattendance-default-rtdb.firebaseio.com/\",\n",
    "    'storageBucket':\"face-recognitionattendance.appspot.com\"\n",
    "})\n",
    "\n",
    "#importing student images\n",
    "\n",
    "folderPath = \"Images\"\n",
    "PathList = os.listdir(folderPath)\n",
    "print(PathList)\n",
    "imgList = []\n",
    "studentsId = []\n",
    "\n",
    "for path in PathList:\n",
    "    imgList.append(cv2.imread(os.path.join(folderPath, path)))\n",
    "    studentsId.append(os.path.splitext(path)[0])\n",
    "    \n",
    "    #print(os.path.splitext(path)[0])\n",
    "    \n",
    "    fileName = f'{folderPath}/{path}'\n",
    "    bucket = storage.bucket()\n",
    "    blob = bucket.blob(fileName)\n",
    "    blob.upload_from_filename(fileName)\n",
    "    \n",
    "    \n",
    "# print(studentsId)\n",
    "\n",
    "def findEncodings(imagesList):\n",
    "    encodeList = []\n",
    "    \n",
    "    for images in imagesList:\n",
    "        images = cv2.cvtColor(images, cv2.COLOR_BGR2RGB)\n",
    "        encode = face_recognition.face_encodings(images)[0]\n",
    "        encodeList.append(encode)\n",
    "    \n",
    "    return encodeList\n",
    "\n",
    "print(\"Starting of encoding process....\")\n",
    "encodeListKnown = findEncodings(imgList) #encoding will be generated\n",
    "\n",
    "#encoding the list with ids and names of the students\n",
    "encodeListKnownWithIds= [encodeListKnown, studentsId]\n",
    "print(\"Encoding of images has been completed.....\")\n",
    "\n",
    "file = open(\"EncodeFile.p\",\"wb\")\n",
    "pickle.dump(encodeListKnownWithIds, file)\n",
    "file.close()\n",
    "print(\"Ecoding File has been saved in your system...\")"
   ]
  }
 ],
 "metadata": {
  "kernelspec": {
   "display_name": "Python 3 (ipykernel)",
   "language": "python",
   "name": "python3"
  },
  "language_info": {
   "codemirror_mode": {
    "name": "ipython",
    "version": 3
   },
   "file_extension": ".py",
   "mimetype": "text/x-python",
   "name": "python",
   "nbconvert_exporter": "python",
   "pygments_lexer": "ipython3",
   "version": "3.11.4"
  }
 },
 "nbformat": 4,
 "nbformat_minor": 5
}
